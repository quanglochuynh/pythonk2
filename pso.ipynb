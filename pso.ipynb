{
 "cells": [
  {
   "cell_type": "code",
   "execution_count": 54,
   "metadata": {},
   "outputs": [],
   "source": [
    "import numpy as np"
   ]
  },
  {
   "cell_type": "code",
   "execution_count": 55,
   "metadata": {},
   "outputs": [],
   "source": [
    "pop_size = 8\n",
    "n = 4\n",
    "dvar = np.random.random((pop_size,n))*100"
   ]
  },
  {
   "cell_type": "code",
   "execution_count": 56,
   "metadata": {},
   "outputs": [
    {
     "name": "stdout",
     "output_type": "stream",
     "text": [
      "[[56. 23. 54. 60.]\n",
      " [68. 13. 93. 90.]\n",
      " [15. 66. 46. 12.]\n",
      " [16. 62.  1. 63.]\n",
      " [42. 39. 82. 40.]\n",
      " [37. 91. 51. 43.]\n",
      " [21. 39. 93. 72.]\n",
      " [53. 71. 37. 61.]]\n"
     ]
    }
   ],
   "source": [
    "print(np.floor(dvar))\n"
   ]
  },
  {
   "cell_type": "code",
   "execution_count": 57,
   "metadata": {},
   "outputs": [
    {
     "name": "stdout",
     "output_type": "stream",
     "text": [
      "[ -70.71680099    3.98809624  -79.82519294 -589.66184322   96.40034544\n",
      " -295.48968584  -83.05641803 -356.50681862]\n"
     ]
    }
   ],
   "source": [
    "z = dvar[:,0]*2 - 4*dvar[:,1] + 5*dvar[:,2] - 6*dvar[:,3]\n",
    "print(z)"
   ]
  },
  {
   "cell_type": "code",
   "execution_count": 58,
   "metadata": {},
   "outputs": [
    {
     "name": "stdout",
     "output_type": "stream",
     "text": [
      "[525.02822789 662.62463422 290.2109101  772.26752944 362.52865263\n",
      " 651.60514226 573.40324006 752.96521889]\n",
      "[ 68.38347209  42.0963413   29.48969176 357.56463523 -48.66065662\n",
      " 165.89707743  67.089714   220.56735009]\n"
     ]
    }
   ],
   "source": [
    "lhs1 = dvar[:,0] + 4*dvar[:,1] - 2*dvar[:,2] + 8*dvar[:,3]\n",
    "print(lhs1)\n",
    "\n",
    "lhs2 = -dvar[:,0] + 2*dvar[:,1] - 3*dvar[:,2] + 4*dvar[:,3]\n",
    "print(lhs2)"
   ]
  },
  {
   "cell_type": "code",
   "execution_count": 59,
   "metadata": {},
   "outputs": [
    {
     "name": "stdout",
     "output_type": "stream",
     "text": [
      "[[2. 2. 2. 2. 2. 2. 2. 2.]]\n"
     ]
    }
   ],
   "source": [
    "rhs1 = 2 * np.ones((1, pop_size))\n",
    "rhs2 = 1 * np.ones((1, pop_size))\n",
    "\n",
    "print(rhs1)"
   ]
  },
  {
   "cell_type": "code",
   "execution_count": 60,
   "metadata": {},
   "outputs": [
    {
     "name": "stdout",
     "output_type": "stream",
     "text": [
      "(1, 8)\n"
     ]
    }
   ],
   "source": [
    "d1 = lhs1-rhs1\n",
    "d2 = lhs2-rhs2\n",
    "print(np.shape(d1))\n",
    "# print(d2)"
   ]
  },
  {
   "cell_type": "code",
   "execution_count": 61,
   "metadata": {},
   "outputs": [
    {
     "name": "stdout",
     "output_type": "stream",
     "text": [
      "(1, 8)\n",
      "[[-1251.54020095 -1399.45385479  -713.22639666 -2843.32617255\n",
      "   -525.33564658 -1924.49412521 -1358.04232615 -2297.57195659]]\n"
     ]
    }
   ],
   "source": [
    "# FITNESS - max z\n",
    "\n",
    "fitness = z - 2*d1 - 2*d2\n",
    "print(np.shape(fitness))\n",
    "print(fitness)"
   ]
  },
  {
   "cell_type": "code",
   "execution_count": 62,
   "metadata": {},
   "outputs": [],
   "source": [
    "# ham fitness\n",
    "\n",
    "def calc_fitness(x):\n",
    "    z = x[:,0]*2 - 4*x[:,1] + 5*x[:,2] - 6*x[:,3]\n",
    "    lhs1 = x[:,0] + 4*x[:,1] - 2*x[:,2] + 8*x[:,3]\n",
    "    lhs2 = -x[:,0] + 2*x[:,1] - 3*x[:,2] + 4*x[:,3]\n",
    "    rhs1 = 2 * np.ones((1, pop_size))\n",
    "    rhs2 = 1 * np.ones((1, pop_size))\n",
    "    d1 = lhs1-rhs1\n",
    "    d2 = lhs2-rhs2\n",
    "    return z - 2*d1 - 2*d2\n",
    "    "
   ]
  },
  {
   "cell_type": "code",
   "execution_count": null,
   "metadata": {},
   "outputs": [],
   "source": []
  }
 ],
 "metadata": {
  "kernelspec": {
   "display_name": "Python 3.10.5 64-bit",
   "language": "python",
   "name": "python3"
  },
  "language_info": {
   "codemirror_mode": {
    "name": "ipython",
    "version": 3
   },
   "file_extension": ".py",
   "mimetype": "text/x-python",
   "name": "python",
   "nbconvert_exporter": "python",
   "pygments_lexer": "ipython3",
   "version": "3.10.5"
  },
  "orig_nbformat": 4,
  "vscode": {
   "interpreter": {
    "hash": "26de051ba29f2982a8de78e945f0abaf191376122a1563185a90213a26c5da77"
   }
  }
 },
 "nbformat": 4,
 "nbformat_minor": 2
}
