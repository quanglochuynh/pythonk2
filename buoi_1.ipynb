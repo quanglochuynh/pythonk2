{
 "cells": [
  {
   "cell_type": "code",
   "execution_count": 2,
   "metadata": {},
   "outputs": [
    {
     "name": "stdout",
     "output_type": "stream",
     "text": [
      "hello world!\n"
     ]
    }
   ],
   "source": [
    "print(\"hello world!\")"
   ]
  },
  {
   "cell_type": "code",
   "execution_count": 3,
   "metadata": {},
   "outputs": [],
   "source": [
    "import numpy as np\n",
    "import matplotlib.pyplot as plt"
   ]
  },
  {
   "cell_type": "code",
   "execution_count": 8,
   "metadata": {},
   "outputs": [],
   "source": [
    "n = 1\n",
    "s = \"hello\"\n",
    "k = 1.5"
   ]
  },
  {
   "cell_type": "code",
   "execution_count": 7,
   "metadata": {},
   "outputs": [
    {
     "name": "stdout",
     "output_type": "stream",
     "text": [
      "hello\n"
     ]
    }
   ],
   "source": [
    "print(s)"
   ]
  },
  {
   "cell_type": "code",
   "execution_count": 11,
   "metadata": {},
   "outputs": [
    {
     "data": {
      "text/plain": [
       "str"
      ]
     },
     "execution_count": 11,
     "metadata": {},
     "output_type": "execute_result"
    }
   ],
   "source": [
    "type(s)"
   ]
  },
  {
   "cell_type": "code",
   "execution_count": 17,
   "metadata": {},
   "outputs": [
    {
     "name": "stdout",
     "output_type": "stream",
     "text": [
      "[1, 4, 5, -3, 6]\n",
      "5\n"
     ]
    }
   ],
   "source": [
    "# List\n",
    "# notice: List != array\n",
    "\n",
    "li = [1,4,5,-3,6]\n",
    "print(li)\n",
    "print(li[2])"
   ]
  },
  {
   "cell_type": "markdown",
   "metadata": {},
   "source": [
    "# ARRAY\n",
    "fixed dimension\n",
    "fixed datatype\n",
    "\n",
    "# List\n",
    "dynamic datatype, dims"
   ]
  },
  {
   "cell_type": "code",
   "execution_count": 15,
   "metadata": {},
   "outputs": [
    {
     "data": {
      "text/plain": [
       "numpy.ndarray"
      ]
     },
     "execution_count": 15,
     "metadata": {},
     "output_type": "execute_result"
    }
   ],
   "source": [
    "# Array\n",
    "ar = np.array(li)\n",
    "type(ar)"
   ]
  },
  {
   "cell_type": "code",
   "execution_count": 21,
   "metadata": {},
   "outputs": [
    {
     "name": "stdout",
     "output_type": "stream",
     "text": [
      "[1, 4, 5, -3, 6, 100, 100, 100]\n"
     ]
    }
   ],
   "source": [
    "li.append(100)\n",
    "print(li)"
   ]
  },
  {
   "cell_type": "code",
   "execution_count": 28,
   "metadata": {},
   "outputs": [
    {
     "data": {
      "text/plain": [
       "100"
      ]
     },
     "execution_count": 28,
     "metadata": {},
     "output_type": "execute_result"
    }
   ],
   "source": [
    "li.pop()"
   ]
  },
  {
   "cell_type": "code",
   "execution_count": 29,
   "metadata": {},
   "outputs": [
    {
     "data": {
      "text/plain": [
       "[1, 4, 5, -3, 100, 100]"
      ]
     },
     "execution_count": 29,
     "metadata": {},
     "output_type": "execute_result"
    }
   ],
   "source": [
    "li"
   ]
  },
  {
   "cell_type": "code",
   "execution_count": 34,
   "metadata": {},
   "outputs": [
    {
     "name": "stdout",
     "output_type": "stream",
     "text": [
      "0\n",
      "2\n",
      "4\n",
      "6\n",
      "8\n",
      "10\n"
     ]
    }
   ],
   "source": [
    "# Loop\n",
    "# For: biet truoc so lan lap\n",
    "# while: ko biet truoc so lan lap\n",
    "for i in range(0,11,2):\n",
    "    print(i)"
   ]
  },
  {
   "cell_type": "code",
   "execution_count": 38,
   "metadata": {},
   "outputs": [
    {
     "name": "stdout",
     "output_type": "stream",
     "text": [
      "0\n",
      "2\n",
      "4\n",
      "6\n",
      "8\n",
      "10\n"
     ]
    }
   ],
   "source": [
    "i = 0\n",
    "while i<11:\n",
    "    if i%2==0:\n",
    "        print(i)\n",
    "    i += 1"
   ]
  },
  {
   "cell_type": "code",
   "execution_count": 43,
   "metadata": {},
   "outputs": [
    {
     "name": "stdout",
     "output_type": "stream",
     "text": [
      "1\n",
      "2\n",
      "3\n",
      "4\n",
      "6\n",
      "8\n",
      "12\n",
      "16\n",
      "24\n",
      "32\n",
      "48\n",
      "96\n"
     ]
    }
   ],
   "source": [
    "# Bai tap: liet ke tat ca cac uoc cua so nguyen duong n\n",
    "n = 96\n",
    "\n",
    "for i in range(1,n+1):\n",
    "    if n%i==0:\n",
    "        print(i)"
   ]
  },
  {
   "cell_type": "code",
   "execution_count": 48,
   "metadata": {},
   "outputs": [
    {
     "name": "stdout",
     "output_type": "stream",
     "text": [
      "2\n",
      "29 la so nguyen to\n"
     ]
    }
   ],
   "source": [
    "# kiem tra 1 so co phai la nguyen to hay khong?\n",
    "n = input(\"Nhap n: \")\n",
    "n = int(n)\n",
    "dem = 0;\n",
    "for i in range(1,n+1):\n",
    "    if n%i==0:\n",
    "        dem+=1\n",
    "\n",
    "print(dem)\n",
    "if dem>2:\n",
    "    print(n, \"la hop so\")\n",
    "else:\n",
    "    print(n, \"la so nguyen to\")"
   ]
  },
  {
   "cell_type": "code",
   "execution_count": 80,
   "metadata": {},
   "outputs": [],
   "source": [
    "# Function: ham so\n",
    "def fx(x):\n",
    "    k = 0.25*x*x - 3\n",
    "    return k"
   ]
  },
  {
   "cell_type": "code",
   "execution_count": 58,
   "metadata": {},
   "outputs": [
    {
     "name": "stdout",
     "output_type": "stream",
     "text": [
      "100\n"
     ]
    }
   ],
   "source": [
    "print(fx(10))"
   ]
  },
  {
   "cell_type": "code",
   "execution_count": 75,
   "metadata": {},
   "outputs": [
    {
     "name": "stdout",
     "output_type": "stream",
     "text": [
      "[0.00000000e+00 1.02030405e-02 4.08121620e-02 9.18273646e-02\n",
      " 1.63248648e-01 2.55076013e-01 3.67309458e-01 4.99948985e-01\n",
      " 6.52994592e-01 8.26446281e-01 1.02030405e+00 1.23456790e+00\n",
      " 1.46923783e+00 1.72431385e+00 1.99979594e+00 2.29568411e+00\n",
      " 2.61197837e+00 2.94867871e+00 3.30578512e+00 3.68329762e+00\n",
      " 4.08121620e+00 4.49954086e+00 4.93827160e+00 5.39740843e+00\n",
      " 5.87695133e+00 6.37690032e+00 6.89725538e+00 7.43801653e+00\n",
      " 7.99918376e+00 8.58075707e+00 9.18273646e+00 9.80512193e+00\n",
      " 1.04479135e+01 1.11111111e+01 1.17947148e+01 1.24987246e+01\n",
      " 1.32231405e+01 1.39679625e+01 1.47331905e+01 1.55188246e+01\n",
      " 1.63248648e+01 1.71513111e+01 1.79981635e+01 1.88654219e+01\n",
      " 1.97530864e+01 2.06611570e+01 2.15896337e+01 2.25385165e+01\n",
      " 2.35078053e+01 2.44975003e+01 2.55076013e+01 2.65381084e+01\n",
      " 2.75890215e+01 2.86603408e+01 2.97520661e+01 3.08641975e+01\n",
      " 3.19967350e+01 3.31496786e+01 3.43230283e+01 3.55167840e+01\n",
      " 3.67309458e+01 3.79655137e+01 3.92204877e+01 4.04958678e+01\n",
      " 4.17916539e+01 4.31078461e+01 4.44444444e+01 4.58014488e+01\n",
      " 4.71788593e+01 4.85766758e+01 4.99948985e+01 5.14335272e+01\n",
      " 5.28925620e+01 5.43720029e+01 5.58718498e+01 5.73921028e+01\n",
      " 5.89327620e+01 6.04938272e+01 6.20752984e+01 6.36771758e+01\n",
      " 6.52994592e+01 6.69421488e+01 6.86052444e+01 7.02887460e+01\n",
      " 7.19926538e+01 7.37169677e+01 7.54616876e+01 7.72268136e+01\n",
      " 7.90123457e+01 8.08182838e+01 8.26446281e+01 8.44913784e+01\n",
      " 8.63585348e+01 8.82460973e+01 9.01540659e+01 9.20824406e+01\n",
      " 9.40312213e+01 9.60004081e+01 9.79900010e+01 1.00000000e+02]\n"
     ]
    }
   ],
   "source": [
    "x = np.linspace(0,10,100)\n",
    "y = fx(x)\n",
    "print(y)"
   ]
  },
  {
   "cell_type": "code",
   "execution_count": 76,
   "metadata": {},
   "outputs": [
    {
     "data": {
      "image/png": "[encoded data removed]",
      "text/plain": [
       "<Figure size 432x288 with 1 Axes>"
      ]
     },
     "metadata": {
      "needs_background": "light"
     },
     "output_type": "display_data"
    }
   ],
   "source": [
    "plt.plot(x,y)\n",
    "plt.show()"
   ]
  },
  {
   "cell_type": "code",
   "execution_count": 69,
   "metadata": {},
   "outputs": [],
   "source": [
    "#(f(x+dx)-f(x))/dx\n",
    "def daoham(x):\n",
    "    dx = 0.0000001\n",
    "    return (fx(x+dx)-fx(x))/dx"
   ]
  },
  {
   "cell_type": "code",
   "execution_count": 77,
   "metadata": {},
   "outputs": [
    {
     "data": {
      "image/png": "[encoded data removed]",
      "text/plain": [
       "<Figure size 432x288 with 1 Axes>"
      ]
     },
     "metadata": {
      "needs_background": "light"
     },
     "output_type": "display_data"
    }
   ],
   "source": [
    "dh = daoham(x)\n",
    "plt.plot(x,y)\n",
    "plt.plot(x,dh)\n",
    "plt.show()\n"
   ]
  },
  {
   "cell_type": "code",
   "execution_count": 82,
   "metadata": {},
   "outputs": [
    {
     "name": "stdout",
     "output_type": "stream",
     "text": [
      "10 22.0 4.9999999873762135\n"
     ]
    }
   ],
   "source": [
    "# newton method\n",
    "x = 10\n",
    "y = fx(x)\n",
    "dh = daoham(x)\n",
    "print(x,y, dh)"
   ]
  },
  {
   "cell_type": "code",
   "execution_count": 85,
   "metadata": {},
   "outputs": [],
   "source": [
    "def newtonRaphson( x ):\n",
    "    h = fx(x) / daoham(x)\n",
    "    while abs(h) >= 0.0001:\n",
    "        h = fx(x)/daoham(x)\n",
    "        x = x - h\n",
    "    return x "
   ]
  },
  {
   "cell_type": "code",
   "execution_count": 86,
   "metadata": {},
   "outputs": [
    {
     "data": {
      "text/plain": [
       "3.4641016157648674"
      ]
     },
     "execution_count": 86,
     "metadata": {},
     "output_type": "execute_result"
    }
   ],
   "source": [
    "newtonRaphson(10)"
   ]
  }
 ],
 "metadata": {
  "kernelspec": {
   "display_name": "Python 3.10.0 64-bit",
   "language": "python",
   "name": "python3"
  },
  "language_info": {
   "codemirror_mode": {
    "name": "ipython",
    "version": 3
   },
   "file_extension": ".py",
   "mimetype": "text/x-python",
   "name": "python",
   "nbconvert_exporter": "python",
   "pygments_lexer": "ipython3",
   "version": "3.10.0"
  },
  "orig_nbformat": 4,
  "vscode": {
   "interpreter": {
    "hash": "aee8b7b246df8f9039afb4144a1f6fd8d2ca17a180786b69acc140d282b71a49"
   }
  }
 },
 "nbformat": 4,
 "nbformat_minor": 2
}
