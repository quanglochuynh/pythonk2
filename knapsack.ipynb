{
 "cells": [
  {
   "cell_type": "code",
   "execution_count": 1,
   "metadata": {},
   "outputs": [],
   "source": [
    "import numpy as np"
   ]
  },
  {
   "cell_type": "code",
   "execution_count": 17,
   "metadata": {},
   "outputs": [],
   "source": [
    "#data\n",
    "n = 4\n",
    "c = 8\n",
    "weight = np.array([1, 5, 3, 4])\n",
    "value = np.array([15, 10, 9 ,5])"
   ]
  },
  {
   "cell_type": "code",
   "execution_count": 18,
   "metadata": {},
   "outputs": [
    {
     "name": "stdout",
     "output_type": "stream",
     "text": [
      "[[0. 0. 0. 0. 0. 0. 0. 0. 0.]\n",
      " [0. 0. 0. 0. 0. 0. 0. 0. 0.]\n",
      " [0. 0. 0. 0. 0. 0. 0. 0. 0.]\n",
      " [0. 0. 0. 0. 0. 0. 0. 0. 0.]\n",
      " [0. 0. 0. 0. 0. 0. 0. 0. 0.]]\n"
     ]
    }
   ],
   "source": [
    "solution = np.zeros((n+1,c+1))\n",
    "print(solution)"
   ]
  },
  {
   "cell_type": "code",
   "execution_count": 19,
   "metadata": {},
   "outputs": [
    {
     "name": "stdout",
     "output_type": "stream",
     "text": [
      "[[ 0.  0.  0.  0.  0.  0.  0.  0.  0.]\n",
      " [ 0. 15. 15. 15. 15. 15. 15. 15. 15.]\n",
      " [ 0. 15. 15. 15. 15. 15. 25. 25. 25.]\n",
      " [ 0. 15. 15. 15. 24. 24. 25. 25. 25.]\n",
      " [ 0. 15. 15. 15. 24. 24. 25. 25. 29.]]\n"
     ]
    }
   ],
   "source": [
    "for k in range(1,n+1):\n",
    "    for g in range(1, c+1):\n",
    "        # print(k,g)\n",
    "        if weight[k-1]>g:\n",
    "            solution[k][g] = solution[k-1][g]\n",
    "        else:\n",
    "            solution[k][g] = max(value[k-1] + solution[k-1][g-weight[k-1]], solution[k-1][g])\n",
    "\n",
    "print(solution)"
   ]
  },
  {
   "cell_type": "code",
   "execution_count": 11,
   "metadata": {},
   "outputs": [
    {
     "name": "stdout",
     "output_type": "stream",
     "text": [
      "Best value = 25.0\n"
     ]
    }
   ],
   "source": [
    "print(\"Best value =\", solution[n][c])"
   ]
  }
 ],
 "metadata": {
  "kernelspec": {
   "display_name": "Python 3.10.5 64-bit",
   "language": "python",
   "name": "python3"
  },
  "language_info": {
   "codemirror_mode": {
    "name": "ipython",
    "version": 3
   },
   "file_extension": ".py",
   "mimetype": "text/x-python",
   "name": "python",
   "nbconvert_exporter": "python",
   "pygments_lexer": "ipython3",
   "version": "3.10.5"
  },
  "orig_nbformat": 4,
  "vscode": {
   "interpreter": {
    "hash": "26de051ba29f2982a8de78e945f0abaf191376122a1563185a90213a26c5da77"
   }
  }
 },
 "nbformat": 4,
 "nbformat_minor": 2
}
