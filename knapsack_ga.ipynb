{
 "cells": [
  {
   "cell_type": "code",
   "execution_count": 234,
   "metadata": {},
   "outputs": [],
   "source": [
    "# Knapsack GA\n",
    "import numpy as np"
   ]
  },
  {
   "cell_type": "code",
   "execution_count": 235,
   "metadata": {},
   "outputs": [],
   "source": [
    "# data\n",
    "n = 4\n",
    "c = 8\n",
    "weight = np.array([1, 5, 3, 4])\n",
    "value = np.array([15, 10, 9 ,5])"
   ]
  },
  {
   "cell_type": "markdown",
   "metadata": {},
   "source": [
    "## Step 1: Define DNA\n"
   ]
  },
  {
   "cell_type": "code",
   "execution_count": 236,
   "metadata": {},
   "outputs": [],
   "source": [
    "# dvar = [0, 1, 0, 1]\n",
    "# w_tui = dvar * weight\n",
    "# v_tui = dvar * value\n",
    "mutation_rate = 0.5\n",
    "\n",
    "class DNA:\n",
    "    def __init__(self):\n",
    "        self.dvar = np.random.randint(0,2,n)\n",
    "        self.fitness = 0\n",
    "\n",
    "    # Fitness function\\\n",
    "    def calc_fitness(self):\n",
    "        w = np.sum(self.dvar * weight)\n",
    "        self.fitness = np.sum(self.dvar*value)\n",
    "        # penalty\n",
    "        if w > c:\n",
    "            self.fitness = self.fitness - (w-c)*5\n",
    "\n",
    "    def mutate(self):\n",
    "        for i in range(n):\n",
    "            r = np.random.rand()\n",
    "            if r<mutation_rate:\n",
    "                #mutate\n",
    "                self.dvar[i] = 1 - self.dvar[i]"
   ]
  },
  {
   "cell_type": "code",
   "execution_count": 237,
   "metadata": {},
   "outputs": [
    {
     "name": "stdout",
     "output_type": "stream",
     "text": [
      "[1 0 0 1]\n",
      "20\n"
     ]
    }
   ],
   "source": [
    "a = DNA()\n",
    "print(a.dvar)\n",
    "a.calc_fitness()\n",
    "print(a.fitness)"
   ]
  },
  {
   "cell_type": "markdown",
   "metadata": {},
   "source": [
    "## initialize first population"
   ]
  },
  {
   "cell_type": "code",
   "execution_count": 238,
   "metadata": {},
   "outputs": [],
   "source": [
    "population = []\n",
    "pop_size = 10\n",
    "\n",
    "for i in range(pop_size):\n",
    "    population.append(DNA())\n",
    "    population[i].calc_fitness()"
   ]
  },
  {
   "cell_type": "code",
   "execution_count": 239,
   "metadata": {},
   "outputs": [
    {
     "name": "stdout",
     "output_type": "stream",
     "text": [
      "[0 1 1 1] 4\n",
      "[0 1 1 0] 19\n",
      "[1 0 0 1] 20\n",
      "[1 0 0 1] 20\n",
      "[1 0 0 0] 15\n",
      "[1 0 1 1] 29\n",
      "[1 1 1 1] 14\n",
      "[0 0 1 0] 9\n",
      "[1 1 0 1] 20\n",
      "[0 0 0 0] 0\n"
     ]
    }
   ],
   "source": [
    "for i in range(pop_size):\n",
    "    print(population[i].dvar, population[i].fitness)"
   ]
  },
  {
   "cell_type": "markdown",
   "metadata": {},
   "source": [
    "## MAIN LOOP"
   ]
  },
  {
   "cell_type": "code",
   "execution_count": 240,
   "metadata": {},
   "outputs": [],
   "source": [
    "def crossover(d1, d2):\n",
    "    mid = np.random.randint(0,n)\n",
    "    new_dvar = np.concatenate([d1.dvar[0:mid], d2.dvar[mid:n]])\n",
    "    result = DNA()\n",
    "    result.dvar = new_dvar\n",
    "    return result\n"
   ]
  },
  {
   "cell_type": "code",
   "execution_count": 241,
   "metadata": {},
   "outputs": [
    {
     "name": "stdout",
     "output_type": "stream",
     "text": [
      "Iteration: 0   ---  Best: 0\n",
      "Iteration: 1   ---  Best: 29\n",
      "Iteration: 2   ---  Best: 29\n",
      "Iteration: 3   ---  Best: 29\n",
      "Iteration: 4   ---  Best: 29\n",
      "Iteration: 5   ---  Best: 29\n",
      "Iteration: 6   ---  Best: 29\n",
      "Iteration: 7   ---  Best: 29\n",
      "Iteration: 8   ---  Best: 29\n",
      "Iteration: 9   ---  Best: 29\n",
      "Iteration: 10   ---  Best: 29\n",
      "Iteration: 11   ---  Best: 29\n",
      "Iteration: 12   ---  Best: 29\n",
      "Iteration: 13   ---  Best: 29\n",
      "Iteration: 14   ---  Best: 29\n",
      "Iteration: 15   ---  Best: 29\n",
      "Iteration: 16   ---  Best: 29\n",
      "Iteration: 17   ---  Best: 29\n",
      "Iteration: 18   ---  Best: 29\n",
      "Iteration: 19   ---  Best: 29\n",
      "Iteration: 20   ---  Best: 29\n",
      "Iteration: 21   ---  Best: 29\n",
      "Iteration: 22   ---  Best: 29\n",
      "Iteration: 23   ---  Best: 29\n",
      "Iteration: 24   ---  Best: 29\n",
      "Iteration: 25   ---  Best: 29\n",
      "Iteration: 26   ---  Best: 29\n",
      "Iteration: 27   ---  Best: 29\n",
      "Iteration: 28   ---  Best: 29\n",
      "Iteration: 29   ---  Best: 29\n",
      "Iteration: 30   ---  Best: 29\n",
      "Iteration: 31   ---  Best: 29\n",
      "Iteration: 32   ---  Best: 29\n",
      "Iteration: 33   ---  Best: 29\n",
      "Iteration: 34   ---  Best: 29\n",
      "Iteration: 35   ---  Best: 29\n",
      "Iteration: 36   ---  Best: 29\n",
      "Iteration: 37   ---  Best: 29\n",
      "Iteration: 38   ---  Best: 29\n",
      "Iteration: 39   ---  Best: 29\n",
      "Iteration: 40   ---  Best: 29\n",
      "Iteration: 41   ---  Best: 29\n",
      "Iteration: 42   ---  Best: 29\n",
      "Iteration: 43   ---  Best: 29\n",
      "Iteration: 44   ---  Best: 29\n",
      "Iteration: 45   ---  Best: 29\n",
      "Iteration: 46   ---  Best: 29\n",
      "Iteration: 47   ---  Best: 29\n",
      "Iteration: 48   ---  Best: 29\n",
      "Iteration: 49   ---  Best: 29\n",
      "Iteration: 50   ---  Best: 29\n",
      "Iteration: 51   ---  Best: 29\n",
      "Iteration: 52   ---  Best: 29\n",
      "Iteration: 53   ---  Best: 29\n",
      "Iteration: 54   ---  Best: 29\n",
      "Iteration: 55   ---  Best: 29\n",
      "Iteration: 56   ---  Best: 29\n",
      "Iteration: 57   ---  Best: 29\n",
      "Iteration: 58   ---  Best: 29\n",
      "Iteration: 59   ---  Best: 29\n",
      "Iteration: 60   ---  Best: 29\n",
      "Iteration: 61   ---  Best: 29\n",
      "Iteration: 62   ---  Best: 29\n",
      "Iteration: 63   ---  Best: 29\n",
      "Iteration: 64   ---  Best: 29\n",
      "Iteration: 65   ---  Best: 29\n",
      "Iteration: 66   ---  Best: 29\n",
      "Iteration: 67   ---  Best: 29\n",
      "Iteration: 68   ---  Best: 29\n",
      "Iteration: 69   ---  Best: 29\n",
      "Iteration: 70   ---  Best: 29\n",
      "Iteration: 71   ---  Best: 29\n",
      "Iteration: 72   ---  Best: 29\n",
      "Iteration: 73   ---  Best: 29\n",
      "Iteration: 74   ---  Best: 29\n",
      "Iteration: 75   ---  Best: 29\n",
      "Iteration: 76   ---  Best: 29\n",
      "Iteration: 77   ---  Best: 29\n",
      "Iteration: 78   ---  Best: 29\n",
      "Iteration: 79   ---  Best: 29\n",
      "Iteration: 80   ---  Best: 29\n",
      "Iteration: 81   ---  Best: 29\n",
      "Iteration: 82   ---  Best: 29\n",
      "Iteration: 83   ---  Best: 29\n",
      "Iteration: 84   ---  Best: 29\n",
      "Iteration: 85   ---  Best: 29\n",
      "Iteration: 86   ---  Best: 29\n",
      "Iteration: 87   ---  Best: 29\n",
      "Iteration: 88   ---  Best: 29\n",
      "Iteration: 89   ---  Best: 29\n",
      "Iteration: 90   ---  Best: 29\n",
      "Iteration: 91   ---  Best: 29\n",
      "Iteration: 92   ---  Best: 29\n",
      "Iteration: 93   ---  Best: 29\n",
      "Iteration: 94   ---  Best: 29\n",
      "Iteration: 95   ---  Best: 29\n",
      "Iteration: 96   ---  Best: 29\n",
      "Iteration: 97   ---  Best: 29\n",
      "Iteration: 98   ---  Best: 29\n",
      "Iteration: 99   ---  Best: 29\n",
      "[1 0 1 1]\n",
      "29\n"
     ]
    }
   ],
   "source": [
    "from math import floor\n",
    "num_of_iteration = 100\n",
    "\n",
    "best_dna = DNA()\n",
    "# best_dna.calc_fitness()\n",
    "\n",
    "for it in range(num_of_iteration):\n",
    "    print(\"Iteration:\", it, \"  ---  Best:\", best_dna.fitness)\n",
    "    ## create mating pool\n",
    "    pool = []\n",
    "    for i in range(pop_size):\n",
    "        for j in range(floor((population[i].fitness))):\n",
    "            pool.append(i)\n",
    "    # print(np.shape(pool))\n",
    "    ## Reproduction\n",
    "    new_pop = []\n",
    "    \n",
    "    # break\n",
    "    for i in range(pop_size):\n",
    "        # Selection - Chon DNA tot\n",
    "        id1 = np.random.choice(pool)\n",
    "        id2 = np.random.choice(pool)\n",
    "        # Crossover\n",
    "        new_dna = crossover(population[id1], population[id2])\n",
    "        # Mutation\n",
    "        new_dna.mutate()\n",
    "        new_dna.calc_fitness()\n",
    "        new_pop.append(new_dna)\n",
    "        # update best DNA\n",
    "        if new_dna.fitness > best_dna.fitness:\n",
    "            best_dna = new_dna\n",
    "    population = new_pop\n",
    "\n",
    "print(best_dna.dvar)\n",
    "print(best_dna.fitness)"
   ]
  },
  {
   "cell_type": "code",
   "execution_count": 242,
   "metadata": {},
   "outputs": [
    {
     "data": {
      "text/plain": [
       "20"
      ]
     },
     "execution_count": 242,
     "metadata": {},
     "output_type": "execute_result"
    }
   ],
   "source": [
    "pop_size\n",
    "population[1].fitness"
   ]
  },
  {
   "cell_type": "code",
   "execution_count": 243,
   "metadata": {},
   "outputs": [
    {
     "name": "stdout",
     "output_type": "stream",
     "text": [
      "3\n"
     ]
    }
   ],
   "source": [
    "pool = [2,5,3,2,3]\n",
    "print(np.random.choice(pool))"
   ]
  }
 ],
 "metadata": {
  "kernelspec": {
   "display_name": "Python 3.10.5 64-bit",
   "language": "python",
   "name": "python3"
  },
  "language_info": {
   "codemirror_mode": {
    "name": "ipython",
    "version": 3
   },
   "file_extension": ".py",
   "mimetype": "text/x-python",
   "name": "python",
   "nbconvert_exporter": "python",
   "pygments_lexer": "ipython3",
   "version": "3.10.5"
  },
  "orig_nbformat": 4,
  "vscode": {
   "interpreter": {
    "hash": "26de051ba29f2982a8de78e945f0abaf191376122a1563185a90213a26c5da77"
   }
  }
 },
 "nbformat": 4,
 "nbformat_minor": 2
}
