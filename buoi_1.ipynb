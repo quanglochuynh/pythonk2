{
 "cells": [
  {
   "cell_type": "code",
   "execution_count": 2,
   "metadata": {},
   "outputs": [
    {
     "name": "stdout",
     "output_type": "stream",
     "text": [
      "hello world!\n"
     ]
    }
   ],
   "source": [
    "print(\"hello world!\")"
   ]
  },
  {
   "cell_type": "code",
   "execution_count": 3,
   "metadata": {},
   "outputs": [],
   "source": [
    "import numpy as np\n",
    "import matplotlib.pyplot as plt"
   ]
  },
  {
   "cell_type": "code",
   "execution_count": 4,
   "metadata": {},
   "outputs": [],
   "source": [
    "n = 1\n",
    "s = \"hello\"\n",
    "k = 1.5"
   ]
  },
  {
   "cell_type": "code",
   "execution_count": 5,
   "metadata": {},
   "outputs": [
    {
     "name": "stdout",
     "output_type": "stream",
     "text": [
      "hello\n"
     ]
    }
   ],
   "source": [
    "print(s)"
   ]
  },
  {
   "cell_type": "code",
   "execution_count": 6,
   "metadata": {},
   "outputs": [
    {
     "data": {
      "text/plain": [
       "str"
      ]
     },
     "execution_count": 6,
     "metadata": {},
     "output_type": "execute_result"
    }
   ],
   "source": [
    "type(s)"
   ]
  },
  {
   "cell_type": "code",
   "execution_count": 7,
   "metadata": {},
   "outputs": [
    {
     "name": "stdout",
     "output_type": "stream",
     "text": [
      "[1, 4, 5, -3, 6]\n",
      "5\n"
     ]
    }
   ],
   "source": [
    "# List\n",
    "# notice: List != array\n",
    "\n",
    "li = [1,4,5,-3,6]\n",
    "print(li)\n",
    "print(li[2])"
   ]
  },
  {
   "cell_type": "markdown",
   "metadata": {},
   "source": [
    "# ARRAY\n",
    "fixed dimension\n",
    "fixed datatype\n",
    "\n",
    "# List\n",
    "dynamic datatype, dims"
   ]
  },
  {
   "cell_type": "code",
   "execution_count": 8,
   "metadata": {},
   "outputs": [
    {
     "data": {
      "text/plain": [
       "numpy.ndarray"
      ]
     },
     "execution_count": 8,
     "metadata": {},
     "output_type": "execute_result"
    }
   ],
   "source": [
    "# Array\n",
    "ar = np.array(li)\n",
    "type(ar)"
   ]
  },
  {
   "cell_type": "code",
   "execution_count": 9,
   "metadata": {},
   "outputs": [
    {
     "name": "stdout",
     "output_type": "stream",
     "text": [
      "[1, 4, 5, -3, 6, 100]\n"
     ]
    }
   ],
   "source": [
    "li.append(100)\n",
    "print(li)"
   ]
  },
  {
   "cell_type": "code",
   "execution_count": 10,
   "metadata": {},
   "outputs": [
    {
     "data": {
      "text/plain": [
       "100"
      ]
     },
     "execution_count": 10,
     "metadata": {},
     "output_type": "execute_result"
    }
   ],
   "source": [
    "li.pop()"
   ]
  },
  {
   "cell_type": "code",
   "execution_count": 11,
   "metadata": {},
   "outputs": [
    {
     "data": {
      "text/plain": [
       "[1, 4, 5, -3, 6]"
      ]
     },
     "execution_count": 11,
     "metadata": {},
     "output_type": "execute_result"
    }
   ],
   "source": [
    "li"
   ]
  },
  {
   "cell_type": "code",
   "execution_count": 12,
   "metadata": {},
   "outputs": [
    {
     "name": "stdout",
     "output_type": "stream",
     "text": [
      "0\n",
      "2\n",
      "4\n",
      "6\n",
      "8\n",
      "10\n"
     ]
    }
   ],
   "source": [
    "# Loop\n",
    "# For: biet truoc so lan lap\n",
    "# while: ko biet truoc so lan lap\n",
    "for i in range(0,11,2):\n",
    "    print(i)"
   ]
  },
  {
   "cell_type": "code",
   "execution_count": 13,
   "metadata": {},
   "outputs": [
    {
     "name": "stdout",
     "output_type": "stream",
     "text": [
      "0\n",
      "2\n",
      "4\n",
      "6\n",
      "8\n",
      "10\n"
     ]
    }
   ],
   "source": [
    "i = 0\n",
    "while i<11:\n",
    "    if i%2==0:\n",
    "        print(i)\n",
    "    i += 1"
   ]
  },
  {
   "cell_type": "code",
   "execution_count": 14,
   "metadata": {},
   "outputs": [
    {
     "name": "stdout",
     "output_type": "stream",
     "text": [
      "1\n",
      "2\n",
      "3\n",
      "4\n",
      "6\n",
      "8\n",
      "12\n",
      "16\n",
      "24\n",
      "32\n",
      "48\n",
      "96\n"
     ]
    }
   ],
   "source": [
    "# Bai tap: liet ke tat ca cac uoc cua so nguyen duong n\n",
    "n = 96\n",
    "\n",
    "for i in range(1,n+1):\n",
    "    if n%i==0:\n",
    "        print(i)"
   ]
  },
  {
   "cell_type": "code",
   "execution_count": 15,
   "metadata": {},
   "outputs": [
    {
     "name": "stdout",
     "output_type": "stream",
     "text": [
      "6\n",
      "45 la hop so\n"
     ]
    }
   ],
   "source": [
    "# kiem tra 1 so co phai la nguyen to hay khong?\n",
    "n = input(\"Nhap n: \")\n",
    "n = int(n)\n",
    "dem = 0;\n",
    "for i in range(1,n+1):\n",
    "    if n%i==0:\n",
    "        dem+=1\n",
    "\n",
    "print(dem)\n",
    "if dem>2:\n",
    "    print(n, \"la hop so\")\n",
    "else:\n",
    "    print(n, \"la so nguyen to\")"
   ]
  },
  {
   "cell_type": "code",
   "execution_count": 16,
   "metadata": {},
   "outputs": [],
   "source": [
    "# Function: ham so\n",
    "def fx(x):\n",
    "    k = 0.25*x*x - 3\n",
    "    return k"
   ]
  },
  {
   "cell_type": "code",
   "execution_count": 17,
   "metadata": {},
   "outputs": [
    {
     "name": "stdout",
     "output_type": "stream",
     "text": [
      "22.0\n"
     ]
    }
   ],
   "source": [
    "print(fx(10))"
   ]
  },
  {
   "cell_type": "code",
   "execution_count": 18,
   "metadata": {},
   "outputs": [
    {
     "name": "stdout",
     "output_type": "stream",
     "text": [
      "[-3.         -2.99744924 -2.98979696 -2.97704316 -2.95918784 -2.936231\n",
      " -2.90817264 -2.87501275 -2.83675135 -2.79338843 -2.74492399 -2.69135802\n",
      " -2.63269054 -2.56892154 -2.50005102 -2.42607897 -2.34700541 -2.26283032\n",
      " -2.17355372 -2.07917559 -1.97969595 -1.87511478 -1.7654321  -1.65064789\n",
      " -1.53076217 -1.40577492 -1.27568615 -1.14049587 -1.00020406 -0.85481073\n",
      " -0.70431589 -0.54871952 -0.38802163 -0.22222222 -0.05132129  0.12468115\n",
      "  0.30578512  0.49199061  0.68329762  0.87970615  1.0812162   1.28782777\n",
      "  1.49954086  1.71635547  1.9382716   2.16528926  2.39740843  2.63462912\n",
      "  2.87695133  3.12437506  3.37690032  3.63452709  3.89725538  4.1650852\n",
      "  4.43801653  4.71604938  4.99918376  5.28741965  5.58075707  5.879196\n",
      "  6.18273646  6.49137843  6.80512193  7.12396694  7.44791348  7.77696153\n",
      "  8.11111111  8.45036221  8.79471483  9.14416896  9.49872462  9.8583818\n",
      " 10.2231405  10.59300071 10.96796245 11.34802571 11.73319049 12.12345679\n",
      " 12.51882461 12.91929395 13.32486481 13.73553719 14.15131109 14.57218651\n",
      " 14.99816345 15.42924191 15.8654219  16.3067034  16.75308642 17.20457096\n",
      " 17.66115702 18.12284461 18.58963371 19.06152433 19.53851648 20.02061014\n",
      " 20.50780533 21.00010203 21.49750026 22.        ]\n"
     ]
    }
   ],
   "source": [
    "x = np.linspace(0,10,100)\n",
    "y = fx(x)\n",
    "print(y)"
   ]
  },
  {
   "cell_type": "code",
   "execution_count": 19,
   "metadata": {},
   "outputs": [
    {
     "data": {
      "image/png": "[encoded data removed]",
      "text/plain": [
       "<Figure size 432x288 with 1 Axes>"
      ]
     },
     "metadata": {
      "needs_background": "light"
     },
     "output_type": "display_data"
    }
   ],
   "source": [
    "plt.plot(x,y)\n",
    "plt.show()"
   ]
  },
  {
   "cell_type": "code",
   "execution_count": 20,
   "metadata": {},
   "outputs": [],
   "source": [
    "#(f(x+dx)-f(x))/dx\n",
    "def daoham(x):\n",
    "    dx = 0.0000001\n",
    "    return (fx(x+dx)-fx(x))/dx"
   ]
  },
  {
   "cell_type": "code",
   "execution_count": 21,
   "metadata": {},
   "outputs": [
    {
     "data": {
      "image/png": "[encoded data removed]",
      "text/plain": [
       "<Figure size 432x288 with 1 Axes>"
      ]
     },
     "metadata": {
      "needs_background": "light"
     },
     "output_type": "display_data"
    }
   ],
   "source": [
    "dh = daoham(x)\n",
    "plt.plot(x,y)\n",
    "plt.plot(x,dh)\n",
    "plt.show()\n"
   ]
  },
  {
   "cell_type": "code",
   "execution_count": 22,
   "metadata": {},
   "outputs": [
    {
     "name": "stdout",
     "output_type": "stream",
     "text": [
      "10 22.0 4.9999999873762135\n"
     ]
    }
   ],
   "source": [
    "# newton method\n",
    "x = 10\n",
    "y = fx(x)\n",
    "dh = daoham(x)\n",
    "print(x,y, dh)"
   ]
  },
  {
   "cell_type": "code",
   "execution_count": 23,
   "metadata": {},
   "outputs": [],
   "source": [
    "def newtonRaphson( x ):\n",
    "    h = fx(x) / daoham(x)\n",
    "    while abs(h) >= 0.0001:\n",
    "        h = fx(x)/daoham(x)\n",
    "        x = x - h\n",
    "    return x "
   ]
  },
  {
   "cell_type": "code",
   "execution_count": 24,
   "metadata": {},
   "outputs": [
    {
     "data": {
      "text/plain": [
       "3.4641016157648674"
      ]
     },
     "execution_count": 24,
     "metadata": {},
     "output_type": "execute_result"
    }
   ],
   "source": [
    "newtonRaphson(10)"
   ]
  },
  {
   "cell_type": "code",
   "execution_count": 29,
   "metadata": {},
   "outputs": [],
   "source": [
    "#REIMAN SUM\n",
    "def tichphan(fn, a, b):\n",
    "    dx = 0.00001\n",
    "    sum = 0\n",
    "    # for x in range(a,b,dx):\n",
    "    x=a;        \n",
    "    while x < b:\n",
    "        sum = sum + fn(x)*dx\n",
    "        x += dx\n",
    "    return sum\n"
   ]
  },
  {
   "cell_type": "markdown",
   "metadata": {},
   "source": [
    "tich phan 0.25x^2-3, "
   ]
  },
  {
   "cell_type": "code",
   "execution_count": 30,
   "metadata": {},
   "outputs": [
    {
     "name": "stdout",
     "output_type": "stream",
     "text": [
      "60.08343958077986\n"
     ]
    }
   ],
   "source": [
    "print(tichphan(fx, 3, 10))"
   ]
  },
  {
   "cell_type": "code",
   "execution_count": null,
   "metadata": {},
   "outputs": [],
   "source": []
  }
 ],
 "metadata": {
  "kernelspec": {
   "display_name": "Python 3.10.5 64-bit",
   "language": "python",
   "name": "python3"
  },
  "language_info": {
   "codemirror_mode": {
    "name": "ipython",
    "version": 3
   },
   "file_extension": ".py",
   "mimetype": "text/x-python",
   "name": "python",
   "nbconvert_exporter": "python",
   "pygments_lexer": "ipython3",
   "version": "3.10.5"
  },
  "orig_nbformat": 4,
  "vscode": {
   "interpreter": {
    "hash": "26de051ba29f2982a8de78e945f0abaf191376122a1563185a90213a26c5da77"
   }
  }
 },
 "nbformat": 4,
 "nbformat_minor": 2
}
