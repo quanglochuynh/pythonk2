{
 "cells": [
  {
   "cell_type": "code",
   "execution_count": 167,
   "metadata": {},
   "outputs": [],
   "source": [
    "import numpy as np\n",
    "import math\n",
    "\n",
    "n=7\n",
    "position = np.array([[3,8],[7,9], [7,7], [10,9], [12,4], [7,1], [1,2]])\n",
    "mutation_rate = 0.4\n"
   ]
  },
  {
   "cell_type": "code",
   "execution_count": 168,
   "metadata": {},
   "outputs": [],
   "source": [
    "def dist(i,j):\n",
    "    x1 = position[i][0]\n",
    "    y1 = position[i][1]\n",
    "    x2 = position[j][0]\n",
    "    y2 = position[j][1]\n",
    "    return math.sqrt((x2-x1)**2 + (y2-y1)**2)\n"
   ]
  },
  {
   "cell_type": "code",
   "execution_count": 169,
   "metadata": {},
   "outputs": [
    {
     "data": {
      "text/plain": [
       "4.123105625617661"
      ]
     },
     "execution_count": 169,
     "metadata": {},
     "output_type": "execute_result"
    }
   ],
   "source": [
    "dist(0,2)"
   ]
  },
  {
   "cell_type": "code",
   "execution_count": 170,
   "metadata": {},
   "outputs": [
    {
     "name": "stdout",
     "output_type": "stream",
     "text": [
      "[5 6 4 1 3 2 0]\n"
     ]
    }
   ],
   "source": [
    "a = np.array([5, 6, 4, 1, 3, 2, 0])\n",
    "print(a)"
   ]
  },
  {
   "cell_type": "code",
   "execution_count": 171,
   "metadata": {},
   "outputs": [
    {
     "name": "stdout",
     "output_type": "stream",
     "text": [
      "43.12508487904284\n"
     ]
    }
   ],
   "source": [
    "sum = 0\n",
    "for i in range(n-1):\n",
    "    sum += dist(a[i],a[i+1])\n",
    "sum+= dist(a[n-1], a[0])\n",
    "\n",
    "print(sum)"
   ]
  },
  {
   "cell_type": "code",
   "execution_count": 172,
   "metadata": {},
   "outputs": [
    {
     "name": "stdout",
     "output_type": "stream",
     "text": [
      "[4 0 6 2 1 3 5]\n"
     ]
    }
   ],
   "source": [
    "k = np.arange(7)\n",
    "np.random.shuffle(k)\n",
    "print(k)"
   ]
  },
  {
   "cell_type": "code",
   "execution_count": 173,
   "metadata": {},
   "outputs": [],
   "source": [
    "class DNA:\n",
    "    def __init__(self):\n",
    "        self.seq = np.arange(n)\n",
    "        np.random.shuffle(self.seq)\n",
    "        self.fitness = None\n",
    "    \n",
    "    def calc_fitness(self):\n",
    "        self.fitness = 0\n",
    "        for i in range(n-1):\n",
    "            self.fitness += dist(self.seq[i],self.seq[i+1])\n",
    "        self.fitness+= dist(self.seq[n-1], self.seq[0])\n",
    "\n",
    "    def mutate(self):\n",
    "        for i in range(n):\n",
    "            if np.random.rand()<mutation_rate:\n",
    "                # mutate\n",
    "                id = np.random.randint(0,n)\n",
    "                self.seq[i], self.seq[id] = self.seq[id], self.seq[i]"
   ]
  },
  {
   "cell_type": "code",
   "execution_count": 174,
   "metadata": {},
   "outputs": [
    {
     "name": "stdout",
     "output_type": "stream",
     "text": [
      "[5 0 4 1 2 6 3]\n",
      "None\n"
     ]
    }
   ],
   "source": [
    "dna1 = DNA()\n",
    "print(dna1.seq)\n",
    "print(dna1.fitness)"
   ]
  },
  {
   "cell_type": "code",
   "execution_count": 175,
   "metadata": {},
   "outputs": [
    {
     "name": "stdout",
     "output_type": "stream",
     "text": [
      "54.7381910341757\n"
     ]
    }
   ],
   "source": [
    "dna1.calc_fitness()\n",
    "print(dna1.fitness)"
   ]
  },
  {
   "cell_type": "code",
   "execution_count": 176,
   "metadata": {},
   "outputs": [
    {
     "data": {
      "text/plain": [
       "array([4], dtype=int64)"
      ]
     },
     "execution_count": 176,
     "metadata": {},
     "output_type": "execute_result"
    }
   ],
   "source": [
    "np.where(dna1.seq==2)[0]"
   ]
  },
  {
   "cell_type": "code",
   "execution_count": 177,
   "metadata": {},
   "outputs": [],
   "source": [
    "# Crossover\n",
    "def crossover(d1, d2):\n",
    "    dna1 = d1\n",
    "    dna2 = d2\n",
    "    mid = np.random.randint(0, n)\n",
    "    for i in range(mid):\n",
    "        id = np.where(dna1.seq==dna2.seq[i])[0]\n",
    "        dna1.seq[id], dna1.seq[i] = dna1.seq[i], dna1.seq[id]\n",
    "        # id = np.where(dna2.seq==dna1.seq[i])[0]\n",
    "        # dna2.seq[id], dna2.seq[i] = dna2.seq[i], dna2.seq[id]\n",
    "    return dna1"
   ]
  },
  {
   "cell_type": "code",
   "execution_count": 178,
   "metadata": {},
   "outputs": [
    {
     "name": "stdout",
     "output_type": "stream",
     "text": [
      "[5 6 2 0 4 1 3]\n",
      "[5 2 3 1 4 6 0]\n"
     ]
    }
   ],
   "source": [
    "a = DNA()\n",
    "print(a.seq)\n",
    "b = DNA()\n",
    "print(b.seq)"
   ]
  },
  {
   "cell_type": "code",
   "execution_count": 179,
   "metadata": {},
   "outputs": [
    {
     "name": "stdout",
     "output_type": "stream",
     "text": [
      "[5 2 6 0 4 1 3]\n"
     ]
    }
   ],
   "source": [
    "c = crossover(a,b)\n",
    "print(c.seq)\n"
   ]
  },
  {
   "cell_type": "code",
   "execution_count": 180,
   "metadata": {},
   "outputs": [
    {
     "name": "stdout",
     "output_type": "stream",
     "text": [
      "[6 4 3 0 2 5 1]\n"
     ]
    }
   ],
   "source": [
    "c.mutate()\n",
    "print(c.seq)"
   ]
  },
  {
   "cell_type": "code",
   "execution_count": 181,
   "metadata": {},
   "outputs": [],
   "source": [
    "# Initialization\n",
    "pop_size = 100\n",
    "population = []\n",
    "for i in range(pop_size):\n",
    "    population.append(DNA())\n",
    "    population[i].calc_fitness()\n"
   ]
  },
  {
   "cell_type": "code",
   "execution_count": 182,
   "metadata": {},
   "outputs": [],
   "source": [
    "def fit_curve(x):\n",
    "    return int(np.round(1000 * pow(2,-0.15*x)))"
   ]
  },
  {
   "cell_type": "code",
   "execution_count": 183,
   "metadata": {},
   "outputs": [
    {
     "data": {
      "text/plain": [
       "125"
      ]
     },
     "execution_count": 183,
     "metadata": {},
     "output_type": "execute_result"
    }
   ],
   "source": [
    "fit_curve(20)"
   ]
  },
  {
   "cell_type": "code",
   "execution_count": 184,
   "metadata": {},
   "outputs": [
    {
     "name": "stdout",
     "output_type": "stream",
     "text": [
      "Generation 0 : 45.13389494260977\n",
      "Generation 1 : 36.74654017823244\n",
      "Generation 2 : 36.355340159419995\n",
      "Generation 3 : 36.140289452191055\n",
      "Generation 4 : 34.79787854140722\n",
      "Generation 5 : 32.74654017823244\n",
      "Generation 6 : 32.74654017823244\n",
      "Generation 7 : 32.74654017823244\n",
      "Generation 8 : 32.74654017823244\n",
      "Generation 9 : 32.74654017823244\n",
      "Generation 10 : 32.74654017823244\n",
      "Generation 11 : 32.74654017823244\n",
      "Generation 12 : 32.74654017823244\n",
      "Generation 13 : 32.74654017823244\n",
      "Generation 14 : 32.74654017823244\n",
      "Generation 15 : 32.74654017823244\n",
      "Generation 16 : 32.74654017823244\n",
      "Generation 17 : 32.74654017823244\n",
      "Generation 18 : 32.74654017823244\n",
      "Generation 19 : 32.74654017823244\n",
      "Generation 20 : 32.74654017823244\n",
      "Generation 21 : 32.74654017823244\n",
      "Generation 22 : 32.74654017823244\n",
      "Generation 23 : 32.74654017823244\n",
      "Generation 24 : 32.74654017823244\n",
      "Generation 25 : 32.74654017823244\n",
      "Generation 26 : 32.74654017823244\n",
      "Generation 27 : 32.74654017823244\n",
      "Generation 28 : 32.74654017823244\n",
      "Generation 29 : 32.74654017823244\n",
      "Generation 30 : 32.74654017823244\n",
      "Generation 31 : 32.74654017823244\n",
      "Generation 32 : 32.74654017823244\n",
      "Generation 33 : 32.74654017823244\n",
      "Generation 34 : 32.74654017823244\n",
      "Generation 35 : 32.74654017823244\n",
      "Generation 36 : 32.74654017823244\n",
      "Generation 37 : 32.74654017823244\n",
      "Generation 38 : 32.74654017823244\n",
      "Generation 39 : 32.74654017823244\n",
      "Generation 40 : 32.74654017823244\n",
      "Generation 41 : 32.74654017823244\n",
      "Generation 42 : 32.74654017823244\n",
      "Generation 43 : 32.74654017823244\n",
      "Generation 44 : 32.74654017823244\n",
      "Generation 45 : 32.74654017823244\n",
      "Generation 46 : 32.74654017823244\n",
      "Generation 47 : 32.74654017823244\n",
      "Generation 48 : 32.74654017823244\n",
      "Generation 49 : 32.74654017823244\n",
      "Generation 50 : 32.74654017823244\n",
      "Generation 51 : 32.74654017823244\n",
      "Generation 52 : 32.74654017823244\n",
      "Generation 53 : 32.74654017823244\n",
      "Generation 54 : 32.74654017823244\n",
      "Generation 55 : 32.74654017823244\n",
      "Generation 56 : 32.74654017823244\n",
      "Generation 57 : 32.74654017823244\n",
      "Generation 58 : 32.74654017823244\n",
      "Generation 59 : 32.74654017823244\n",
      "Generation 60 : 32.74654017823244\n",
      "Generation 61 : 32.74654017823244\n",
      "Generation 62 : 32.74654017823244\n",
      "Generation 63 : 32.74654017823244\n",
      "Generation 64 : 32.74654017823244\n",
      "Generation 65 : 32.74654017823244\n",
      "Generation 66 : 32.74654017823244\n",
      "Generation 67 : 32.74654017823244\n",
      "Generation 68 : 32.74654017823244\n",
      "Generation 69 : 32.74654017823244\n",
      "Generation 70 : 32.74654017823244\n",
      "Generation 71 : 32.74654017823244\n",
      "Generation 72 : 32.74654017823244\n",
      "Generation 73 : 32.74654017823244\n",
      "Generation 74 : 32.74654017823244\n",
      "Generation 75 : 32.74654017823244\n",
      "Generation 76 : 32.74654017823244\n",
      "Generation 77 : 32.74654017823244\n",
      "Generation 78 : 32.74654017823244\n",
      "Generation 79 : 32.74654017823244\n",
      "Generation 80 : 32.74654017823244\n",
      "Generation 81 : 32.74654017823244\n",
      "Generation 82 : 32.74654017823244\n",
      "Generation 83 : 32.74654017823244\n",
      "Generation 84 : 32.74654017823244\n",
      "Generation 85 : 32.74654017823244\n",
      "Generation 86 : 32.74654017823244\n",
      "Generation 87 : 32.74654017823244\n",
      "Generation 88 : 32.74654017823244\n",
      "Generation 89 : 32.74654017823244\n",
      "Generation 90 : 32.74654017823244\n",
      "Generation 91 : 32.74654017823244\n",
      "Generation 92 : 32.74654017823244\n",
      "Generation 93 : 32.74654017823244\n",
      "Generation 94 : 32.74654017823244\n",
      "Generation 95 : 32.74654017823244\n",
      "Generation 96 : 32.74654017823244\n",
      "Generation 97 : 32.74654017823244\n",
      "Generation 98 : 32.74654017823244\n",
      "Generation 99 : 32.74654017823244\n",
      "Generation 100 : 32.74654017823244\n",
      "Generation 101 : 32.74654017823244\n",
      "Generation 102 : 32.74654017823244\n",
      "Generation 103 : 32.74654017823244\n",
      "Generation 104 : 32.74654017823244\n",
      "Generation 105 : 32.74654017823244\n",
      "Generation 106 : 32.74654017823244\n",
      "Generation 107 : 32.74654017823244\n",
      "Generation 108 : 32.74654017823244\n",
      "Generation 109 : 32.74654017823244\n",
      "Generation 110 : 32.74654017823244\n",
      "Generation 111 : 32.74654017823244\n",
      "Generation 112 : 32.74654017823244\n",
      "Generation 113 : 32.74654017823244\n",
      "Generation 114 : 32.74654017823244\n",
      "Generation 115 : 32.74654017823244\n",
      "Generation 116 : 32.74654017823244\n",
      "Generation 117 : 32.74654017823244\n",
      "Generation 118 : 32.74654017823244\n",
      "Generation 119 : 32.74654017823244\n",
      "Generation 120 : 32.74654017823244\n",
      "Generation 121 : 32.74654017823244\n",
      "Generation 122 : 32.74654017823244\n",
      "Generation 123 : 32.74654017823244\n",
      "Generation 124 : 32.74654017823244\n",
      "Generation 125 : 32.74654017823244\n",
      "Generation 126 : 32.74654017823244\n",
      "Generation 127 : 32.74654017823244\n",
      "Generation 128 : 32.74654017823244\n",
      "Generation 129 : 32.74654017823244\n",
      "Generation 130 : 32.74654017823244\n",
      "Generation 131 : 32.74654017823244\n",
      "Generation 132 : 32.74654017823244\n",
      "Generation 133 : 32.74654017823244\n",
      "Generation 134 : 32.74654017823244\n",
      "Generation 135 : 32.74654017823244\n",
      "Generation 136 : 32.74654017823244\n",
      "Generation 137 : 32.74654017823244\n",
      "Generation 138 : 32.74654017823244\n",
      "Generation 139 : 32.74654017823244\n",
      "Generation 140 : 32.74654017823244\n",
      "Generation 141 : 32.74654017823244\n",
      "Generation 142 : 32.74654017823244\n",
      "Generation 143 : 32.74654017823244\n",
      "Generation 144 : 32.74654017823244\n",
      "Generation 145 : 32.74654017823244\n",
      "Generation 146 : 32.74654017823244\n",
      "Generation 147 : 32.74654017823244\n",
      "Generation 148 : 32.74654017823244\n",
      "Generation 149 : 32.74654017823244\n",
      "Generation 150 : 32.74654017823244\n",
      "Generation 151 : 32.74654017823244\n",
      "Generation 152 : 32.74654017823244\n",
      "Generation 153 : 32.74654017823244\n",
      "Generation 154 : 32.74654017823244\n",
      "Generation 155 : 32.74654017823244\n",
      "Generation 156 : 32.74654017823244\n",
      "Generation 157 : 32.74654017823244\n",
      "Generation 158 : 32.74654017823244\n",
      "Generation 159 : 32.74654017823244\n",
      "Generation 160 : 32.74654017823244\n",
      "Generation 161 : 32.74654017823244\n",
      "Generation 162 : 32.74654017823244\n",
      "Generation 163 : 32.74654017823244\n",
      "Generation 164 : 32.74654017823244\n",
      "Generation 165 : 32.74654017823244\n",
      "Generation 166 : 32.74654017823244\n",
      "Generation 167 : 32.74654017823244\n",
      "Generation 168 : 32.74654017823244\n",
      "Generation 169 : 32.74654017823244\n",
      "Generation 170 : 32.74654017823244\n",
      "Generation 171 : 32.74654017823244\n",
      "Generation 172 : 32.74654017823244\n",
      "Generation 173 : 32.74654017823244\n",
      "Generation 174 : 32.74654017823244\n",
      "Generation 175 : 32.74654017823244\n",
      "Generation 176 : 32.74654017823244\n",
      "Generation 177 : 32.74654017823244\n",
      "Generation 178 : 32.74654017823244\n",
      "Generation 179 : 32.74654017823244\n",
      "Generation 180 : 32.74654017823244\n",
      "Generation 181 : 32.74654017823244\n",
      "Generation 182 : 32.74654017823244\n",
      "Generation 183 : 32.74654017823244\n",
      "Generation 184 : 32.74654017823244\n",
      "Generation 185 : 32.74654017823244\n",
      "Generation 186 : 32.74654017823244\n",
      "Generation 187 : 32.74654017823244\n",
      "Generation 188 : 32.74654017823244\n",
      "Generation 189 : 32.74654017823244\n",
      "Generation 190 : 32.74654017823244\n",
      "Generation 191 : 32.74654017823244\n",
      "Generation 192 : 32.74654017823244\n",
      "Generation 193 : 32.74654017823244\n",
      "Generation 194 : 32.74654017823244\n",
      "Generation 195 : 32.74654017823244\n",
      "Generation 196 : 32.74654017823244\n",
      "Generation 197 : 32.74654017823244\n",
      "Generation 198 : 32.74654017823244\n",
      "Generation 199 : 32.74654017823244\n",
      "Generation 200 : 32.74654017823244\n",
      "Generation 201 : 32.74654017823244\n",
      "Generation 202 : 32.74654017823244\n",
      "Generation 203 : 32.74654017823244\n",
      "Generation 204 : 32.74654017823244\n",
      "Generation 205 : 32.74654017823244\n",
      "Generation 206 : 32.74654017823244\n",
      "Generation 207 : 32.74654017823244\n",
      "Generation 208 : 32.74654017823244\n",
      "Generation 209 : 32.74654017823244\n",
      "Generation 210 : 32.74654017823244\n",
      "Generation 211 : 32.74654017823244\n",
      "Generation 212 : 32.74654017823244\n",
      "Generation 213 : 32.74654017823244\n",
      "Generation 214 : 32.74654017823244\n",
      "Generation 215 : 32.74654017823244\n",
      "Generation 216 : 32.74654017823244\n",
      "Generation 217 : 32.74654017823244\n",
      "Generation 218 : 32.74654017823244\n",
      "Generation 219 : 32.74654017823244\n",
      "Generation 220 : 32.74654017823244\n",
      "Generation 221 : 32.74654017823244\n",
      "Generation 222 : 32.74654017823244\n",
      "Generation 223 : 32.74654017823244\n",
      "Generation 224 : 32.74654017823244\n",
      "Generation 225 : 32.74654017823244\n",
      "Generation 226 : 32.74654017823244\n",
      "Generation 227 : 32.74654017823244\n",
      "Generation 228 : 32.74654017823244\n",
      "Generation 229 : 32.74654017823244\n",
      "Generation 230 : 32.74654017823244\n",
      "Generation 231 : 32.74654017823244\n",
      "Generation 232 : 32.74654017823244\n",
      "Generation 233 : 32.74654017823244\n",
      "Generation 234 : 32.74654017823244\n",
      "Generation 235 : 32.74654017823244\n",
      "Generation 236 : 32.74654017823244\n",
      "Generation 237 : 32.74654017823244\n",
      "Generation 238 : 32.74654017823244\n",
      "Generation 239 : 32.74654017823244\n",
      "Generation 240 : 32.74654017823244\n",
      "Generation 241 : 32.74654017823244\n",
      "Generation 242 : 32.74654017823244\n",
      "Generation 243 : 32.74654017823244\n",
      "Generation 244 : 32.74654017823244\n",
      "Generation 245 : 32.74654017823244\n",
      "Generation 246 : 32.74654017823244\n",
      "Generation 247 : 32.74654017823244\n",
      "Generation 248 : 32.74654017823244\n",
      "Generation 249 : 32.74654017823244\n",
      "Generation 250 : 32.74654017823244\n",
      "Generation 251 : 32.74654017823244\n",
      "Generation 252 : 32.74654017823244\n",
      "Generation 253 : 32.74654017823244\n",
      "Generation 254 : 32.74654017823244\n",
      "Generation 255 : 32.74654017823244\n",
      "Generation 256 : 32.74654017823244\n",
      "Generation 257 : 32.74654017823244\n",
      "Generation 258 : 32.74654017823244\n",
      "Generation 259 : 32.74654017823244\n",
      "Generation 260 : 32.74654017823244\n",
      "Generation 261 : 32.74654017823244\n",
      "Generation 262 : 32.74654017823244\n",
      "Generation 263 : 32.74654017823244\n",
      "Generation 264 : 32.74654017823244\n",
      "Generation 265 : 32.74654017823244\n",
      "Generation 266 : 32.74654017823244\n",
      "Generation 267 : 32.74654017823244\n",
      "Generation 268 : 32.74654017823244\n",
      "Generation 269 : 32.74654017823244\n",
      "Generation 270 : 32.74654017823244\n",
      "Generation 271 : 32.74654017823244\n",
      "Generation 272 : 32.74654017823244\n",
      "Generation 273 : 32.74654017823244\n",
      "Generation 274 : 32.74654017823244\n",
      "Generation 275 : 32.74654017823244\n",
      "Generation 276 : 32.74654017823244\n",
      "Generation 277 : 32.74654017823244\n",
      "Generation 278 : 32.74654017823244\n",
      "Generation 279 : 32.74654017823244\n",
      "Generation 280 : 32.74654017823244\n",
      "Generation 281 : 32.74654017823244\n",
      "Generation 282 : 32.74654017823244\n",
      "Generation 283 : 32.74654017823244\n",
      "Generation 284 : 32.74654017823244\n",
      "Generation 285 : 32.74654017823244\n",
      "Generation 286 : 32.74654017823244\n",
      "Generation 287 : 32.74654017823244\n",
      "Generation 288 : 32.74654017823244\n",
      "Generation 289 : 32.74654017823244\n",
      "Generation 290 : 32.74654017823244\n",
      "Generation 291 : 32.74654017823244\n",
      "Generation 292 : 32.74654017823244\n",
      "Generation 293 : 32.74654017823244\n",
      "Generation 294 : 32.74654017823244\n",
      "Generation 295 : 32.74654017823244\n",
      "Generation 296 : 32.74654017823244\n",
      "Generation 297 : 32.74654017823244\n",
      "Generation 298 : 32.74654017823244\n",
      "Generation 299 : 32.74654017823244\n",
      "Generation 300 : 32.74654017823244\n",
      "Generation 301 : 32.74654017823244\n",
      "Generation 302 : 32.74654017823244\n",
      "Generation 303 : 32.74654017823244\n",
      "Generation 304 : 32.74654017823244\n",
      "Generation 305 : 32.74654017823244\n",
      "Generation 306 : 32.74654017823244\n",
      "Generation 307 : 32.74654017823244\n",
      "Generation 308 : 32.74654017823244\n",
      "Generation 309 : 32.74654017823244\n",
      "Generation 310 : 32.74654017823244\n",
      "Generation 311 : 32.74654017823244\n",
      "Generation 312 : 32.74654017823244\n",
      "Generation 313 : 32.74654017823244\n",
      "Generation 314 : 32.74654017823244\n",
      "Generation 315 : 32.74654017823244\n",
      "Generation 316 : 32.74654017823244\n",
      "Generation 317 : 32.74654017823244\n",
      "Generation 318 : 32.74654017823244\n",
      "Generation 319 : 32.74654017823244\n",
      "Generation 320 : 32.74654017823244\n",
      "Generation 321 : 32.74654017823244\n",
      "Generation 322 : 32.74654017823244\n",
      "Generation 323 : 32.74654017823244\n",
      "Generation 324 : 32.74654017823244\n",
      "Generation 325 : 32.74654017823244\n",
      "Generation 326 : 32.74654017823244\n",
      "Generation 327 : 32.74654017823244\n",
      "Generation 328 : 32.74654017823244\n",
      "Generation 329 : 32.74654017823244\n",
      "Generation 330 : 32.74654017823244\n",
      "Generation 331 : 32.74654017823244\n",
      "Generation 332 : 32.74654017823244\n",
      "Generation 333 : 32.74654017823244\n",
      "Generation 334 : 32.74654017823244\n",
      "Generation 335 : 32.74654017823244\n",
      "Generation 336 : 32.74654017823244\n",
      "Generation 337 : 32.74654017823244\n",
      "Generation 338 : 32.74654017823244\n",
      "Generation 339 : 32.74654017823244\n",
      "Generation 340 : 32.74654017823244\n",
      "Generation 341 : 32.74654017823244\n",
      "Generation 342 : 32.74654017823244\n",
      "Generation 343 : 32.74654017823244\n",
      "Generation 344 : 32.74654017823244\n",
      "Generation 345 : 32.74654017823244\n",
      "Generation 346 : 32.74654017823244\n",
      "Generation 347 : 32.74654017823244\n",
      "Generation 348 : 32.74654017823244\n",
      "Generation 349 : 32.74654017823244\n",
      "Generation 350 : 32.74654017823244\n",
      "Generation 351 : 32.74654017823244\n",
      "Generation 352 : 32.74654017823244\n",
      "Generation 353 : 32.74654017823244\n",
      "Generation 354 : 32.74654017823244\n",
      "Generation 355 : 32.74654017823244\n",
      "Generation 356 : 32.74654017823244\n",
      "Generation 357 : 32.74654017823244\n",
      "Generation 358 : 32.74654017823244\n",
      "Generation 359 : 32.74654017823244\n",
      "Generation 360 : 32.74654017823244\n",
      "Generation 361 : 32.74654017823244\n",
      "Generation 362 : 32.74654017823244\n",
      "Generation 363 : 32.74654017823244\n",
      "Generation 364 : 32.74654017823244\n",
      "Generation 365 : 32.74654017823244\n",
      "Generation 366 : 32.74654017823244\n",
      "Generation 367 : 32.74654017823244\n",
      "Generation 368 : 32.74654017823244\n",
      "Generation 369 : 32.74654017823244\n",
      "Generation 370 : 32.74654017823244\n",
      "Generation 371 : 32.74654017823244\n",
      "Generation 372 : 32.74654017823244\n",
      "Generation 373 : 32.74654017823244\n",
      "Generation 374 : 32.74654017823244\n",
      "Generation 375 : 32.74654017823244\n",
      "Generation 376 : 32.74654017823244\n",
      "Generation 377 : 32.74654017823244\n",
      "Generation 378 : 32.74654017823244\n",
      "Generation 379 : 32.74654017823244\n",
      "Generation 380 : 32.74654017823244\n",
      "Generation 381 : 32.74654017823244\n",
      "Generation 382 : 32.74654017823244\n",
      "Generation 383 : 32.74654017823244\n",
      "Generation 384 : 32.74654017823244\n",
      "Generation 385 : 32.74654017823244\n",
      "Generation 386 : 32.74654017823244\n",
      "Generation 387 : 32.74654017823244\n",
      "Generation 388 : 32.74654017823244\n",
      "Generation 389 : 32.74654017823244\n",
      "Generation 390 : 32.74654017823244\n",
      "Generation 391 : 32.74654017823244\n",
      "Generation 392 : 32.74654017823244\n",
      "Generation 393 : 32.74654017823244\n",
      "Generation 394 : 32.74654017823244\n",
      "Generation 395 : 32.74654017823244\n",
      "Generation 396 : 32.74654017823244\n",
      "Generation 397 : 32.74654017823244\n",
      "Generation 398 : 32.74654017823244\n",
      "Generation 399 : 32.74654017823244\n",
      "Generation 400 : 32.74654017823244\n",
      "Generation 401 : 32.74654017823244\n",
      "Generation 402 : 32.74654017823244\n",
      "Generation 403 : 32.74654017823244\n",
      "Generation 404 : 32.74654017823244\n",
      "Generation 405 : 32.74654017823244\n",
      "Generation 406 : 32.74654017823244\n",
      "Generation 407 : 32.74654017823244\n",
      "Generation 408 : 32.74654017823244\n",
      "Generation 409 : 32.74654017823244\n",
      "Generation 410 : 32.74654017823244\n",
      "Generation 411 : 32.74654017823244\n",
      "Generation 412 : 32.74654017823244\n",
      "Generation 413 : 32.74654017823244\n",
      "Generation 414 : 32.74654017823244\n",
      "Generation 415 : 32.74654017823244\n",
      "Generation 416 : 32.74654017823244\n",
      "Generation 417 : 32.74654017823244\n",
      "Generation 418 : 32.74654017823244\n",
      "Generation 419 : 32.74654017823244\n",
      "Generation 420 : 32.74654017823244\n",
      "Generation 421 : 32.74654017823244\n",
      "Generation 422 : 32.74654017823244\n",
      "Generation 423 : 32.74654017823244\n",
      "Generation 424 : 32.74654017823244\n",
      "Generation 425 : 32.74654017823244\n",
      "Generation 426 : 32.74654017823244\n",
      "Generation 427 : 32.74654017823244\n",
      "Generation 428 : 32.74654017823244\n",
      "Generation 429 : 32.74654017823244\n",
      "Generation 430 : 32.74654017823244\n",
      "Generation 431 : 32.74654017823244\n",
      "Generation 432 : 32.74654017823244\n",
      "Generation 433 : 32.74654017823244\n",
      "Generation 434 : 32.74654017823244\n",
      "Generation 435 : 32.74654017823244\n",
      "Generation 436 : 32.74654017823244\n",
      "Generation 437 : 32.74654017823244\n",
      "Generation 438 : 32.74654017823244\n",
      "Generation 439 : 32.74654017823244\n",
      "Generation 440 : 32.74654017823244\n",
      "Generation 441 : 32.74654017823244\n",
      "Generation 442 : 32.74654017823244\n",
      "Generation 443 : 32.74654017823244\n",
      "Generation 444 : 32.74654017823244\n",
      "Generation 445 : 32.74654017823244\n",
      "Generation 446 : 32.74654017823244\n",
      "Generation 447 : 32.74654017823244\n",
      "Generation 448 : 32.74654017823244\n",
      "Generation 449 : 32.74654017823244\n",
      "Generation 450 : 32.74654017823244\n",
      "Generation 451 : 32.74654017823244\n",
      "Generation 452 : 32.74654017823244\n",
      "Generation 453 : 32.74654017823244\n",
      "Generation 454 : 32.74654017823244\n",
      "Generation 455 : 32.74654017823244\n",
      "Generation 456 : 32.74654017823244\n",
      "Generation 457 : 32.74654017823244\n",
      "Generation 458 : 32.74654017823244\n",
      "Generation 459 : 32.74654017823244\n",
      "Generation 460 : 32.74654017823244\n",
      "Generation 461 : 32.74654017823244\n",
      "Generation 462 : 32.74654017823244\n",
      "Generation 463 : 32.74654017823244\n",
      "Generation 464 : 32.74654017823244\n",
      "Generation 465 : 32.74654017823244\n",
      "Generation 466 : 32.74654017823244\n",
      "Generation 467 : 32.74654017823244\n",
      "Generation 468 : 32.74654017823244\n",
      "Generation 469 : 32.74654017823244\n",
      "Generation 470 : 32.74654017823244\n",
      "Generation 471 : 32.74654017823244\n",
      "Generation 472 : 32.74654017823244\n",
      "Generation 473 : 32.74654017823244\n",
      "Generation 474 : 32.74654017823244\n",
      "Generation 475 : 32.74654017823244\n",
      "Generation 476 : 32.74654017823244\n",
      "Generation 477 : 32.74654017823244\n",
      "Generation 478 : 32.74654017823244\n",
      "Generation 479 : 32.74654017823244\n",
      "Generation 480 : 32.74654017823244\n",
      "Generation 481 : 32.74654017823244\n",
      "Generation 482 : 32.74654017823244\n",
      "Generation 483 : 32.74654017823244\n",
      "Generation 484 : 32.74654017823244\n",
      "Generation 485 : 32.74654017823244\n",
      "Generation 486 : 32.74654017823244\n",
      "Generation 487 : 32.74654017823244\n",
      "Generation 488 : 32.74654017823244\n",
      "Generation 489 : 32.74654017823244\n",
      "Generation 490 : 32.74654017823244\n",
      "Generation 491 : 32.74654017823244\n",
      "Generation 492 : 32.74654017823244\n",
      "Generation 493 : 32.74654017823244\n",
      "Generation 494 : 32.74654017823244\n",
      "Generation 495 : 32.74654017823244\n",
      "Generation 496 : 32.74654017823244\n",
      "Generation 497 : 32.74654017823244\n",
      "Generation 498 : 32.74654017823244\n",
      "Generation 499 : 32.74654017823244\n"
     ]
    }
   ],
   "source": [
    "# Main Loop\n",
    "result = []\n",
    "num_of_iteration = 500\n",
    "best_dna = DNA()\n",
    "best_dna.calc_fitness()\n",
    "for it in range(num_of_iteration):\n",
    "    result.append(best_dna.fitness)\n",
    "    print(\"Generation\", it,\":\", best_dna.fitness)\n",
    "    # create mating pool\n",
    "    pool = []\n",
    "    for i in range(pop_size):\n",
    "        for j in range(fit_curve(population[i].fitness)):\n",
    "            pool.append(i)\n",
    "    ## Reproduction\n",
    "    new_pop = []\n",
    "    for i in range(pop_size):\n",
    "        #selection\n",
    "        id1 = np.random.choice(pool)\n",
    "        id2 = np.random.choice(pool)\n",
    "        # crossover\n",
    "        new_dna = crossover(population[id1], population[id2])\n",
    "        # mutation\n",
    "        new_dna.mutate()\n",
    "        # calculate fitness\n",
    "        new_dna.calc_fitness()\n",
    "        new_pop.append(new_dna)\n",
    "        if new_dna.fitness < best_dna.fitness:\n",
    "            best_dna.seq = new_dna.seq\n",
    "            best_dna.calc_fitness()\n",
    "    population = new_pop"
   ]
  },
  {
   "cell_type": "code",
   "execution_count": 187,
   "metadata": {},
   "outputs": [
    {
     "name": "stdout",
     "output_type": "stream",
     "text": [
      "[3 7 4 6 1 5 2]\n"
     ]
    }
   ],
   "source": [
    "print(best_dna.seq+1)"
   ]
  },
  {
   "cell_type": "code",
   "execution_count": null,
   "metadata": {},
   "outputs": [],
   "source": []
  },
  {
   "cell_type": "code",
   "execution_count": 186,
   "metadata": {},
   "outputs": [
    {
     "data": {
      "image/png": "[encoded data removed]",
      "text/plain": [
       "<Figure size 432x288 with 1 Axes>"
      ]
     },
     "metadata": {
      "needs_background": "light"
     },
     "output_type": "display_data"
    }
   ],
   "source": [
    "import matplotlib.pyplot as plt\n",
    "\n",
    "plt.plot(result)\n",
    "plt.show()"
   ]
  }
 ],
 "metadata": {
  "kernelspec": {
   "display_name": "Python 3.10.5 64-bit",
   "language": "python",
   "name": "python3"
  },
  "language_info": {
   "codemirror_mode": {
    "name": "ipython",
    "version": 3
   },
   "file_extension": ".py",
   "mimetype": "text/x-python",
   "name": "python",
   "nbconvert_exporter": "python",
   "pygments_lexer": "ipython3",
   "version": "3.10.5"
  },
  "orig_nbformat": 4,
  "vscode": {
   "interpreter": {
    "hash": "26de051ba29f2982a8de78e945f0abaf191376122a1563185a90213a26c5da77"
   }
  }
 },
 "nbformat": 4,
 "nbformat_minor": 2
}
