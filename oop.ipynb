{
 "cells": [
  {
   "cell_type": "markdown",
   "metadata": {},
   "source": [
    "# Lap trinh huong doi tuong"
   ]
  },
  {
   "cell_type": "code",
   "execution_count": 1,
   "metadata": {},
   "outputs": [],
   "source": [
    "# object: structured datatype\n",
    "# object sinh vien:\n",
    "## ten, tuoi, gioi tinh, nganh, MSSV, etc."
   ]
  },
  {
   "cell_type": "code",
   "execution_count": 2,
   "metadata": {},
   "outputs": [],
   "source": [
    "class SinhVien:\n",
    "    # Ham khoi tao - aka Constructor\n",
    "    def __init__(self, name, age):\n",
    "        self.ten = name\n",
    "        self.tuoi = age\n",
    "\n",
    "    # Method: hàm để biến đổi chính đối tượng hiện tại\n",
    "    def tang_tuoi(self):\n",
    "        self.tuoi += 1\n",
    "    \n",
    "    def show(self):\n",
    "        print(self.ten)\n",
    "        print(self.tuoi)"
   ]
  },
  {
   "cell_type": "code",
   "execution_count": 3,
   "metadata": {},
   "outputs": [],
   "source": [
    "t = SinhVien(\"Nhan\", 21)\n",
    "h = SinhVien(\"Hau\", 19)"
   ]
  },
  {
   "cell_type": "code",
   "execution_count": 7,
   "metadata": {},
   "outputs": [
    {
     "name": "stdout",
     "output_type": "stream",
     "text": [
      "Nhan\n",
      "22\n",
      "Hau\n",
      "20\n"
     ]
    }
   ],
   "source": [
    "t.show()\n",
    "h.show()"
   ]
  }
 ],
 "metadata": {
  "kernelspec": {
   "display_name": "Python 3.10.5 64-bit",
   "language": "python",
   "name": "python3"
  },
  "language_info": {
   "codemirror_mode": {
    "name": "ipython",
    "version": 3
   },
   "file_extension": ".py",
   "mimetype": "text/x-python",
   "name": "python",
   "nbconvert_exporter": "python",
   "pygments_lexer": "ipython3",
   "version": "3.10.5"
  },
  "orig_nbformat": 4,
  "vscode": {
   "interpreter": {
    "hash": "26de051ba29f2982a8de78e945f0abaf191376122a1563185a90213a26c5da77"
   }
  }
 },
 "nbformat": 4,
 "nbformat_minor": 2
}
